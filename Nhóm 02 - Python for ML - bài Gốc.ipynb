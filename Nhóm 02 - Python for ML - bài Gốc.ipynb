{
  "cells": [
    {
      "cell_type": "code",
      "execution_count": 4,
      "metadata": {
        "colab": {
          "base_uri": "https://localhost:8080/",
          "height": 256
        },
        "id": "L6-3Ujm53fZ8",
        "outputId": "e404f5ba-c63a-4ef6-d6ac-ee79c5a1abbb"
      },
      "outputs": [
        {
          "ename": "ModuleNotFoundError",
          "evalue": "No module named 'pandas'",
          "output_type": "error",
          "traceback": [
            "\u001b[1;31m---------------------------------------------------------------------------\u001b[0m",
            "\u001b[1;31mModuleNotFoundError\u001b[0m                       Traceback (most recent call last)",
            "Cell \u001b[1;32mIn[4], line 1\u001b[0m\n\u001b[1;32m----> 1\u001b[0m \u001b[38;5;28;01mimport\u001b[39;00m\u001b[38;5;250m \u001b[39m\u001b[38;5;21;01mpandas\u001b[39;00m\u001b[38;5;250m \u001b[39m\u001b[38;5;28;01mas\u001b[39;00m\u001b[38;5;250m \u001b[39m\u001b[38;5;21;01mpd\u001b[39;00m\n\u001b[0;32m      3\u001b[0m \u001b[38;5;66;03m# Load dataset (replace 'your_file.csv' with the actual file name)\u001b[39;00m\n\u001b[0;32m      4\u001b[0m df \u001b[38;5;241m=\u001b[39m pd\u001b[38;5;241m.\u001b[39mread_csv(\u001b[38;5;124m'\u001b[39m\u001b[38;5;124m/content/train.csv\u001b[39m\u001b[38;5;124m'\u001b[39m)\n",
            "\u001b[1;31mModuleNotFoundError\u001b[0m: No module named 'pandas'"
          ]
        }
      ],
      "source": [
        "import pandas as pd\n",
        "\n",
        "# Load dataset (replace 'your_file.csv' with the actual file name)\n",
        "df = pd.read_csv('/content/train.csv')\n",
        "\n",
        "# Select categorical columns\n",
        "categorical_cols = df.select_dtypes(include=['object']).columns\n",
        "\n",
        "# Replace missing values with the most frequent category (mode)\n",
        "for col in categorical_cols:\n",
        "    mode = df[col].mode()[0]  # Get the most common value\n",
        "    df[col].fillna(mode, inplace=True)  # Fill missing values\n",
        "df.head()"
      ]
    },
    {
      "cell_type": "code",
      "execution_count": null,
      "metadata": {
        "colab": {
          "base_uri": "https://localhost:8080/",
          "height": 446
        },
        "id": "tUUG9WLm33_V",
        "outputId": "df76de5d-21a4-4e54-d19c-85b6af322e42"
      },
      "outputs": [
        {
          "data": {
            "image/png": "[encoded data removed]",
            "text/plain": [
              "<Figure size 800x400 with 1 Axes>"
            ]
          },
          "metadata": {},
          "output_type": "display_data"
        }
      ],
      "source": [
        "import matplotlib.pyplot as plt\n",
        "import numpy as np\n",
        "\n",
        "features = ['LotFrontage', 'MasVnrArea', 'GarageYrBlt']\n",
        "\n",
        "# Plot box plots\n",
        "df[features]=np.log(df[features])\n",
        "df[features].boxplot(figsize=(8, 4))\n",
        "\n",
        "plt.title('Box Plot for Outlier Detection')\n",
        "plt.ylabel('Values')\n",
        "plt.xticks(rotation=45)\n",
        "plt.show()"
      ]
    },
    {
      "cell_type": "code",
      "execution_count": 73,
      "metadata": {
        "collapsed": true,
        "id": "ulPC3shW5QCv"
      },
      "outputs": [],
      "source": [
        "# import pandas as pd\n",
        "# Select numerical columns\n",
        "numerical_columns = df.select_dtypes(include=['number']).columns\n",
        "for col in numerical_columns:\n",
        "    median = df[col].median()\n",
        "    df[col].fillna(median, inplace=True)  # Replace nulls with median"
      ]
    },
    {
      "cell_type": "code",
      "execution_count": 74,
      "metadata": {
        "id": "0aYEDxGT5kmV"
      },
      "outputs": [],
      "source": [
        "# Get columns that contain 'Yr' or 'Year'\n",
        "year_columns = [feature for feature in numerical_columns if 'Yr' in feature or 'Year' in feature]\n",
        "\n",
        "# Convert year values into age-related features\n",
        "for col in year_columns:\n",
        "    df[col] = df['YrSold'] - df[col]"
      ]
    },
    {
      "cell_type": "code",
      "execution_count": 76,
      "metadata": {
        "colab": {
          "base_uri": "https://localhost:8080/"
        },
        "id": "YBilaT1w6KuW",
        "outputId": "76de730d-7e0e-4433-caad-c73d94316d89"
      },
      "outputs": [
        {
          "name": "stdout",
          "output_type": "stream",
          "text": [
            "Skewed Columns:\n",
            "GrLivArea       1.186075\n",
            "LotArea        12.348242\n",
            "LotFrontage     1.806476\n",
            "MSSubClass      1.404451\n",
            "SalePrice       1.963159\n",
            "dtype: float64\n"
          ]
        }
      ],
      "source": [
        "# import pandas as pd\n",
        "\n",
        "# Get numerical columns\n",
        "numerical_columns = df.select_dtypes(include=['number']).columns\n",
        "\n",
        "# Identify columns containing zeros\n",
        "numerical_0s = df.loc[:, (df == 0).any()].select_dtypes(include=['number']).columns\n",
        "\n",
        "# Remove columns that contain zeros from consideration\n",
        "numerical_columns = numerical_columns.difference(numerical_0s)\n",
        "\n",
        "# Calculate skewness for the remaining numerical columns\n",
        "skewness = df[numerical_columns].skew()\n",
        "\n",
        "# Set threshold for skewness (e.g., absolute value > 1 indicates high skewness)\n",
        "skewed_columns = skewness[abs(skewness) > 1]\n",
        "\n",
        "# Display skewed columns\n",
        "print(\"Skewed Columns:\")\n",
        "print(skewed_columns)"
      ]
    },
    {
      "cell_type": "code",
      "execution_count": 64,
      "metadata": {
        "id": "_uKwJX_96R3B"
      },
      "outputs": [],
      "source": [
        "import numpy as np\n",
        "\n",
        "# The list of highly skewed features identified earlier\n",
        "skew_features = ['LotFrontage', 'LotArea', '1stFlrSF', 'GrLivArea', 'SalePrice']\n",
        "\n",
        "# Apply log transformation to each skewed feature\n",
        "for col in skew_features:\n",
        "    df[col] = np.log(df[col])"
      ]
    },
    {
      "cell_type": "code",
      "execution_count": 77,
      "metadata": {
        "id": "gpMJjXsi6iUZ"
      },
      "outputs": [],
      "source": [
        "# Select categorical variables\n",
        "categorical_columns = df.select_dtypes(include=['object', 'category']).columns\n",
        "\n",
        "# Apply target encoding\n",
        "for col in categorical_columns:\n",
        "    # Compute mean SalePrice for each category\n",
        "    labels_ordered = df.groupby([col])['SalePrice'].mean().sort_values().index\n",
        "\n",
        "    # Assign numerical values based on target variable mean\n",
        "    labels_ordered = {x: i for i, x in enumerate(labels_ordered, 0)}\n",
        "\n",
        "    # Map encoded values back to the dataframe\n",
        "    df[col] = df[col].map(labels_ordered)\n",
        "# df.head()"
      ]
    }
  ],
  "metadata": {
    "colab": {
      "provenance": []
    },
    "kernelspec": {
      "display_name": "Python 3",
      "name": "python3"
    },
    "language_info": {
      "codemirror_mode": {
        "name": "ipython",
        "version": 3
      },
      "file_extension": ".py",
      "mimetype": "text/x-python",
      "name": "python",
      "nbconvert_exporter": "python",
      "pygments_lexer": "ipython3",
      "version": "3.10.11"
    }
  },
  "nbformat": 4,
  "nbformat_minor": 0
}
